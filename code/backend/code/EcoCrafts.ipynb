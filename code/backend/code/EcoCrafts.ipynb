{
  "cells": [
    {
      "cell_type": "markdown",
      "metadata": {
        "id": "IzkOfeby87xF"
      },
      "source": [
        "Installing all Python Dependencies"
      ]
    },
    {
      "cell_type": "code",
      "execution_count": null,
      "metadata": {
        "id": "z4JJMtgF5FHK"
      },
      "outputs": [],
      "source": [
        "!pip install ultralytics\n",
        "!pip install roboflow"
      ]
    },
    {
      "cell_type": "code",
      "execution_count": null,
      "metadata": {
        "id": "tj8ort-c86rJ"
      },
      "outputs": [],
      "source": [
        "from ultralytics import YOLO\n",
        "from roboflow import Roboflow\n",
        "\n",
        "rf = Roboflow(api_key=\"HnF5alSYlRr4OudzxWl0\")\n",
        "project = rf.workspace(\"mohamed-traore-2ekkp\").project(\"taco-trash-annotations-in-context\")\n",
        "dataset = project.version(13).download(\"yolov8\")"
      ]
    },
    {
      "cell_type": "markdown",
      "metadata": {
        "id": "ktHanPdtAkS5"
      },
      "source": [
        "Training the model using YOLOv8 CLI"
      ]
    },
    {
      "cell_type": "code",
      "execution_count": null,
      "metadata": {
        "id": "2ppHipWjAsd0"
      },
      "outputs": [],
      "source": [
        "!yolo task=detect mode=train model=yolov8s.pt data=/content/TACO/data.yaml epochs=30 imgsz=640"
      ]
    },
    {
      "cell_type": "markdown",
      "metadata": {
        "id": "3wpWeNSMU8xo"
      },
      "source": [
        "Testing model on Validation Set"
      ]
    },
    {
      "cell_type": "code",
      "execution_count": null,
      "metadata": {
        "id": "4s69ZaxDU_c4"
      },
      "outputs": [],
      "source": [
        "!yolo task=detect mode=val model=yolov8s.pt data=/content/TACO/data.yaml epochs=30 imgsz=640"
      ]
    },
    {
      "cell_type": "markdown",
      "metadata": {
        "id": "1LXlh6dSYbU1"
      },
      "source": [
        "Testing Model on Custom Images"
      ]
    },
    {
      "cell_type": "code",
      "execution_count": null,
      "metadata": {
        "id": "thCBq3KCYegV"
      },
      "outputs": [],
      "source": [
        "!yolo task=detect mode=predict model=yolov8s.pt data=/content/TACO/data.yaml epochs=30 imgsz=640"
      ]
    },
    {
      "cell_type": "markdown",
      "metadata": {},
      "source": [
        "Exporting the model in TF.js format"
      ]
    },
    {
      "cell_type": "code",
      "execution_count": null,
      "metadata": {},
      "outputs": [],
      "source": [
        "!yolo export model=/content/runs/detect/train/weights/best.pt format=tfjs"
      ]
    }
  ],
  "metadata": {
    "accelerator": "GPU",
    "colab": {
      "gpuType": "T4",
      "machine_shape": "hm",
      "provenance": []
    },
    "kernelspec": {
      "display_name": "Python 3",
      "name": "python3"
    },
    "language_info": {
      "name": "python"
    }
  },
  "nbformat": 4,
  "nbformat_minor": 0
}
